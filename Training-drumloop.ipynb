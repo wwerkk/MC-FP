{
  "cells": [
    {
      "attachments": {},
      "cell_type": "markdown",
      "metadata": {},
      "source": [
        "### Set the parameters"
      ]
    },
    {
      "cell_type": "code",
      "execution_count": 14,
      "metadata": {},
      "outputs": [],
      "source": [
        "file_path = \"audio-data/drumloop.mp3\"\n",
        "name = \"drumloop\"\n",
        "\n",
        "# segmentation\n",
        "block_length = 1 # number of frames in a stream block\n",
        "BPM = 120\n",
        "beat = 1 / 8 # metered divisions\n",
        "hop_beats = 1 / 8 # hop length in beats\n",
        "## alternatively, you can specify frame length and hop length in seconds\n",
        "# frame_length_s = 0.1\n",
        "# hop_length_s = 0.02\n",
        "## or in samples\n",
        "# frame_length = 4096\n",
        "# hop_length = 1024\n",
        "\n",
        "# clustering\n",
        "n_classes = 128 # number of clusters to form with KMeans\n",
        "\n",
        "# model architecture and training\n",
        "step = 2 # step size for sliding window\n",
        "hidden_units = 24 # number of hidden units in GRU layer\n",
        "epochs = 50\n",
        "batch_size = 32\n",
        "\n",
        "# utility\n",
        "verbose = 1 # print additional information"
      ]
    },
    {
      "attachments": {},
      "cell_type": "markdown",
      "metadata": {},
      "source": [
        "### Run the training script"
      ]
    },
    {
      "cell_type": "code",
      "execution_count": 15,
      "metadata": {},
      "outputs": [],
      "source": [
        "!python train.py -p {file_path} -bl {block_length} --bpm {BPM} --beat {beat} --hop_beats {hop_beats} -nc {n_classes} -e {epochs} -bs {batch_size} -s {step} -hu {hidden_units} -n {name}"
      ]
    },
    {
      "cell_type": "code",
      "execution_count": null,
      "metadata": {},
      "outputs": [],
      "source": []
    }
  ],
  "metadata": {
    "colab": {
      "include_colab_link": true,
      "provenance": []
    },
    "gpuClass": "standard",
    "kernelspec": {
      "display_name": "cpu",
      "language": "python",
      "name": "python3"
    },
    "language_info": {
      "codemirror_mode": {
        "name": "ipython",
        "version": 3
      },
      "file_extension": ".py",
      "mimetype": "text/x-python",
      "name": "python",
      "nbconvert_exporter": "python",
      "pygments_lexer": "ipython3",
      "version": "3.10.10"
    },
    "vscode": {
      "interpreter": {
        "hash": "eef7cfdb0753716783333de301afc93a0f8eb46eb65ba5dfde8a41b2ebfbbe93"
      }
    }
  },
  "nbformat": 4,
  "nbformat_minor": 0
}
