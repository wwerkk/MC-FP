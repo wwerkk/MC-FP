{
  "cells": [
    {
      "attachments": {},
      "cell_type": "markdown",
      "metadata": {},
      "source": [
        "### Set the parameters"
      ]
    },
    {
      "cell_type": "code",
      "execution_count": 1,
      "metadata": {},
      "outputs": [],
      "source": [
        "file_path = \"audio-data/collins.mp3\"\n",
        "name = \"collins-8th\"\n",
        "\n",
        "# segmentation\n",
        "block_length = 1 # number of frames in a stream block\n",
        "BPM = 167\n",
        "beat = 1 / 8 # metered divisions\n",
        "hop_beats = 1 / 8 # hop length in beats\n",
        "## alternatively, you can specify frame length and hop length in seconds\n",
        "# frame_length_s = 0.1\n",
        "# hop_length_s = 0.02\n",
        "## or in samples\n",
        "# frame_length = 4096\n",
        "# hop_length = 1024\n",
        "\n",
        "# clustering\n",
        "n_classes = 64 # number of clusters to form with KMeans\n",
        "maxlen = 256\n",
        "\n",
        "# model architecture and training\n",
        "step = 1 # step size for sliding window\n",
        "hidden_units = 24 # number of hidden units in GRU layer\n",
        "epochs = 100\n",
        "batch_size = 16\n",
        "\n",
        "# utility\n",
        "verbose = 1 # print additional information"
      ]
    },
    {
      "attachments": {},
      "cell_type": "markdown",
      "metadata": {},
      "source": [
        "### Run the training script"
      ]
    },
    {
      "cell_type": "code",
      "execution_count": 2,
      "metadata": {},
      "outputs": [
        {
          "name": "stdout",
          "output_type": "stream",
          "text": [
            "Audio length: 200.46473922902496s, 8840495 samples\n",
            "Sample rate: 44100 Hz\n",
            "Frame length: 0.17964071856287425s,  7923 samples\n",
            "Hop length: 0.17964071856287425s, 7923 samples\n",
            "Block length: 1 frame(s)\n",
            "Number of blocks: 1116\n",
            "Metal device set to: Apple M1\n",
            "\n",
            "systemMemory: 16.00 GB\n",
            "maxCacheSize: 5.33 GB\n",
            "\n",
            "Model: \"collins-8th\"\n",
            "_________________________________________________________________\n",
            " Layer (type)                Output Shape              Param #   \n",
            "=================================================================\n",
            " input_1 (InputLayer)        [(None, 256, 128)]        0         \n",
            "                                                                 \n",
            " gru (GRU)                   (None, 24)                11088     \n",
            "                                                                 \n",
            " dense (Dense)               (None, 128)               3200      \n",
            "                                                                 \n",
            "=================================================================\n",
            "Total params: 14,288\n",
            "Trainable params: 14,288\n",
            "Non-trainable params: 0\n",
            "_________________________________________________________________\n",
            "2023-04-29 22:41:34.290201: W tensorflow/tsl/platform/profile_utils/cpu_utils.cc:128] Failed to get CPU frequency: 0 Hz\n",
            "Traceback (most recent call last):\n",
            "  File \"/Users/wwerkowicz/GS/MC/MC-FP/MC-FP-master/train.py\", line 185, in <module>\n",
            "    history = model.fit(\n",
            "  File \"/Users/wwerkowicz/miniforge3/envs/metal/lib/python3.10/site-packages/keras/utils/traceback_utils.py\", line 70, in error_handler\n",
            "    raise e.with_traceback(filtered_tb) from None\n",
            "  File \"/var/folders/kt/3yzrdbd548lfc1w4yd4phlwm0000gn/T/__autograph_generated_filepxg04u5v.py\", line 15, in tf__train_function\n",
            "    retval_ = ag__.converted_call(ag__.ld(step_function), (ag__.ld(self), ag__.ld(iterator)), None, fscope)\n",
            "ValueError: in user code:\n",
            "\n",
            "    File \"/Users/wwerkowicz/miniforge3/envs/metal/lib/python3.10/site-packages/keras/engine/training.py\", line 1284, in train_function  *\n",
            "        return step_function(self, iterator)\n",
            "    File \"/Users/wwerkowicz/miniforge3/envs/metal/lib/python3.10/site-packages/keras/engine/training.py\", line 1268, in step_function  **\n",
            "        outputs = model.distribute_strategy.run(run_step, args=(data,))\n",
            "    File \"/Users/wwerkowicz/miniforge3/envs/metal/lib/python3.10/site-packages/keras/engine/training.py\", line 1249, in run_step  **\n",
            "        outputs = model.train_step(data)\n",
            "    File \"/Users/wwerkowicz/miniforge3/envs/metal/lib/python3.10/site-packages/keras/engine/training.py\", line 1051, in train_step\n",
            "        loss = self.compute_loss(x, y, y_pred, sample_weight)\n",
            "    File \"/Users/wwerkowicz/miniforge3/envs/metal/lib/python3.10/site-packages/keras/engine/training.py\", line 1109, in compute_loss\n",
            "        return self.compiled_loss(\n",
            "    File \"/Users/wwerkowicz/miniforge3/envs/metal/lib/python3.10/site-packages/keras/engine/compile_utils.py\", line 265, in __call__\n",
            "        loss_value = loss_obj(y_t, y_p, sample_weight=sw)\n",
            "    File \"/Users/wwerkowicz/miniforge3/envs/metal/lib/python3.10/site-packages/keras/losses.py\", line 142, in __call__\n",
            "        losses = call_fn(y_true, y_pred)\n",
            "    File \"/Users/wwerkowicz/miniforge3/envs/metal/lib/python3.10/site-packages/keras/losses.py\", line 268, in call  **\n",
            "        return ag_fn(y_true, y_pred, **self._fn_kwargs)\n",
            "    File \"/Users/wwerkowicz/miniforge3/envs/metal/lib/python3.10/site-packages/keras/losses.py\", line 1984, in categorical_crossentropy\n",
            "        return backend.categorical_crossentropy(\n",
            "    File \"/Users/wwerkowicz/miniforge3/envs/metal/lib/python3.10/site-packages/keras/backend.py\", line 5559, in categorical_crossentropy\n",
            "        target.shape.assert_is_compatible_with(output.shape)\n",
            "\n",
            "    ValueError: Shapes (16, 126) and (16, 128) are incompatible\n",
            "\n"
          ]
        }
      ],
      "source": [
        "!python train.py -p {file_path} -bl {block_length} -bpm {BPM} -bt {beat} -hb {hop_beats} -nc {n_classes} -e {epochs} -bs {batch_size} -s {step} -hu {hidden_units} -n {name} -ml {maxlen}"
      ]
    },
    {
      "cell_type": "code",
      "execution_count": null,
      "metadata": {},
      "outputs": [],
      "source": []
    }
  ],
  "metadata": {
    "colab": {
      "include_colab_link": true,
      "provenance": []
    },
    "gpuClass": "standard",
    "kernelspec": {
      "display_name": "cpu",
      "language": "python",
      "name": "python3"
    },
    "language_info": {
      "codemirror_mode": {
        "name": "ipython",
        "version": 3
      },
      "file_extension": ".py",
      "mimetype": "text/x-python",
      "name": "python",
      "nbconvert_exporter": "python",
      "pygments_lexer": "ipython3",
      "version": "3.10.10"
    },
    "vscode": {
      "interpreter": {
        "hash": "eef7cfdb0753716783333de301afc93a0f8eb46eb65ba5dfde8a41b2ebfbbe93"
      }
    }
  },
  "nbformat": 4,
  "nbformat_minor": 0
}
