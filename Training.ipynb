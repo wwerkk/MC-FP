{
  "cells": [
    {
      "attachments": {},
      "cell_type": "markdown",
      "metadata": {},
      "source": [
        "### Set the parameters"
      ]
    },
    {
      "cell_type": "code",
      "execution_count": 31,
      "metadata": {},
      "outputs": [],
      "source": [
        "file_path = \"audio-data/collins.mp3\"\n",
        "name = \"collins-8th\"\n",
        "\n",
        "# segmentation\n",
        "block_length = 1 # number of frames in a stream block\n",
        "BPM = 167\n",
        "beat = 1 / 8 # metered divisions\n",
        "## alternatively, you can specify frame length and hop length in seconds\n",
        "# frame_length_s = 0.1\n",
        "# hop_length_s = 0.01\n",
        "## or in samples\n",
        "# frame_length = 4096\n",
        "# hop_length = 1024\n",
        "\n",
        "# clustering\n",
        "n_classes = 256 # number of clusters to form with KMeans\n",
        "\n",
        "# model architecture and training\n",
        "step = 2 # step size for sliding window\n",
        "hidden_units = 24 # number of hidden units in GRU layer\n",
        "epochs = 3\n",
        "batch_size = 64\n",
        "\n",
        "# utility\n",
        "verbose = 0 # print additional information\n",
        "PLOT = 0 # plot samples of training data"
      ]
    },
    {
      "attachments": {},
      "cell_type": "markdown",
      "metadata": {},
      "source": [
        "### Run the training script"
      ]
    },
    {
      "cell_type": "code",
      "execution_count": 32,
      "metadata": {},
      "outputs": [
        {
          "name": "stdout",
          "output_type": "stream",
          "text": [
            "Audio length: 200.46473922902496s, 8840495 samples\n",
            "Sample rate: 44100 Hz\n",
            "Frame length: 0.17964071856287425s,  7923 samples\n",
            "Hop length: 0.02245508982035928s, 991 samples\n",
            "Block length: 1 frame(s)\n",
            "Number of blocks: 8921\n",
            "/Users/wwerkowicz/miniconda/envs/cpu/lib/python3.10/site-packages/sklearn/preprocessing/_data.py:240: UserWarning: Numerical issues were encountered when centering the data and might not be solved. Dataset may contain too large values. You may need to prescale your features.\n",
            "  warnings.warn(\n",
            "/Users/wwerkowicz/miniconda/envs/cpu/lib/python3.10/site-packages/sklearn/preprocessing/_data.py:259: UserWarning: Numerical issues were encountered when scaling the data and might not be solved. The standard deviation of the data is probably very close to 0. \n",
            "  warnings.warn(\n",
            "Model: \"collins-8th\"\n",
            "_________________________________________________________________\n",
            " Layer (type)                Output Shape              Param #   \n",
            "=================================================================\n",
            " input_1 (InputLayer)        [(None, 256, 256)]        0         \n",
            "                                                                 \n",
            " gru (GRU)                   (None, 256, 24)           20304     \n",
            "                                                                 \n",
            " dense (Dense)               (None, 256, 256)          6400      \n",
            "                                                                 \n",
            "=================================================================\n",
            "Total params: 26,704\n",
            "Trainable params: 26,704\n",
            "Non-trainable params: 0\n",
            "_________________________________________________________________\n",
            "2023-04-18 22:33:43.771423: W tensorflow/core/platform/profile_utils/cpu_utils.cc:128] Failed to get CPU frequency: 0 Hz\n",
            "Saving model to: models/collins-8th\n"
          ]
        }
      ],
      "source": [
        "!python train.py -p {file_path} -bl {block_length} -bpm {BPM} -bt {beat} -nc {n_classes} -e {epochs} -bs {batch_size} -s {step} -hu {hidden_units} -n {name} -plt {PLOT}"
      ]
    },
    {
      "cell_type": "code",
      "execution_count": null,
      "metadata": {},
      "outputs": [],
      "source": []
    }
  ],
  "metadata": {
    "colab": {
      "include_colab_link": true,
      "provenance": []
    },
    "gpuClass": "standard",
    "kernelspec": {
      "display_name": "cpu",
      "language": "python",
      "name": "python3"
    },
    "language_info": {
      "codemirror_mode": {
        "name": "ipython",
        "version": 3
      },
      "file_extension": ".py",
      "mimetype": "text/x-python",
      "name": "python",
      "nbconvert_exporter": "python",
      "pygments_lexer": "ipython3",
      "version": "3.10.8"
    },
    "vscode": {
      "interpreter": {
        "hash": "eef7cfdb0753716783333de301afc93a0f8eb46eb65ba5dfde8a41b2ebfbbe93"
      }
    }
  },
  "nbformat": 4,
  "nbformat_minor": 0
}
