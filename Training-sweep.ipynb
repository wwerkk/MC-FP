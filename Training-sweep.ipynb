{
  "cells": [
    {
      "attachments": {},
      "cell_type": "markdown",
      "metadata": {},
      "source": [
        "### Set the parameters"
      ]
    },
    {
      "cell_type": "code",
      "execution_count": 14,
      "metadata": {},
      "outputs": [],
      "source": [
        "file_path = \"audio-data/sweep.mp3\"\n",
        "name = \"sweep\"\n",
        "\n",
        "# segmentation\n",
        "block_length = 1 # number of frames in a stream block\n",
        "# BPM = 120\n",
        "# beat = 1 / 8 # metered divisions\n",
        "# hop_beats = 1 / 8 # hop length in beats\n",
        "## alternatively, you can specify frame length and hop length in seconds\n",
        "frame_length_s = 0.1\n",
        "hop_length_s = 0.02\n",
        "## or in samples\n",
        "# frame_length = 4096\n",
        "# hop_length = 1024\n",
        "\n",
        "# clustering\n",
        "n_classes = 128 # number of clusters to form with KMeans\n",
        "\n",
        "# model architecture and training\n",
        "step = 2 # step size for sliding window\n",
        "hidden_units = 24 # number of hidden units in GRU layer\n",
        "epochs = 50\n",
        "batch_size = 32\n",
        "\n",
        "# utility\n",
        "verbose = 1 # print additional information"
      ]
    },
    {
      "attachments": {},
      "cell_type": "markdown",
      "metadata": {},
      "source": [
        "### Run the training script"
      ]
    },
    {
      "cell_type": "code",
      "execution_count": 15,
      "metadata": {},
      "outputs": [
        {
          "name": "stdout",
          "output_type": "stream",
          "text": [
            "Audio length: 128.016s, 6144768 samples\n",
            "Sample rate: 48000 Hz\n",
            "Frame length: 0.25s,  12000 samples\n",
            "Hop length: 0.25s, 12000 samples\n",
            "Block length: 1 frame(s)\n",
            "Number of blocks: 513\n",
            "/Users/wwerkowicz/miniforge3/envs/metal/lib/python3.10/site-packages/sklearn/preprocessing/_data.py:240: UserWarning: Numerical issues were encountered when centering the data and might not be solved. Dataset may contain too large values. You may need to prescale your features.\n",
            "  warnings.warn(\n",
            "/Users/wwerkowicz/miniforge3/envs/metal/lib/python3.10/site-packages/sklearn/preprocessing/_data.py:259: UserWarning: Numerical issues were encountered when scaling the data and might not be solved. The standard deviation of the data is probably very close to 0. \n",
            "  warnings.warn(\n",
            "Metal device set to: Apple M1\n",
            "\n",
            "systemMemory: 16.00 GB\n",
            "maxCacheSize: 5.33 GB\n",
            "\n",
            "Model: \"drumloop\"\n",
            "_________________________________________________________________\n",
            " Layer (type)                Output Shape              Param #   \n",
            "=================================================================\n",
            " input_1 (InputLayer)        [(None, 128, 128)]        0         \n",
            "                                                                 \n",
            " gru (GRU)                   (None, 128, 24)           11088     \n",
            "                                                                 \n",
            " dense (Dense)               (None, 128, 128)          3200      \n",
            "                                                                 \n",
            "=================================================================\n",
            "Total params: 14,288\n",
            "Trainable params: 14,288\n",
            "Non-trainable params: 0\n",
            "_________________________________________________________________\n",
            "2023-04-28 23:25:22.307683: W tensorflow/tsl/platform/profile_utils/cpu_utils.cc:128] Failed to get CPU frequency: 0 Hz\n"
          ]
        }
      ],
      "source": [
        "!python train.py -p {file_path} -bl {block_length} -fls {frame_length_s} -hls {hop_length_s} -nc {n_classes} -e {epochs} -bs {batch_size} -s {step} -hu {hidden_units} -n {name}"
      ]
    },
    {
      "cell_type": "code",
      "execution_count": null,
      "metadata": {},
      "outputs": [],
      "source": []
    }
  ],
  "metadata": {
    "colab": {
      "include_colab_link": true,
      "provenance": []
    },
    "gpuClass": "standard",
    "kernelspec": {
      "display_name": "cpu",
      "language": "python",
      "name": "python3"
    },
    "language_info": {
      "codemirror_mode": {
        "name": "ipython",
        "version": 3
      },
      "file_extension": ".py",
      "mimetype": "text/x-python",
      "name": "python",
      "nbconvert_exporter": "python",
      "pygments_lexer": "ipython3",
      "version": "3.10.10"
    },
    "vscode": {
      "interpreter": {
        "hash": "eef7cfdb0753716783333de301afc93a0f8eb46eb65ba5dfde8a41b2ebfbbe93"
      }
    }
  },
  "nbformat": 4,
  "nbformat_minor": 0
}
